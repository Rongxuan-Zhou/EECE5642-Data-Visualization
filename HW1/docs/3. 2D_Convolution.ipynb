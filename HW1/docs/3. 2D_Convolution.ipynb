{
 "cells": [
  {
   "cell_type": "markdown",
   "metadata": {},
   "source": [
    "# 2D Convolution\n",
    "\n",
    "## Introduction: \n",
    "This notebook demonstrates how to perform a 2D convolution using a filter and data matrix.\n",
    "\n",
    "## Boundary Handling:\n",
    "As it is indicated in the figure, when filter slides to the edges of the data matrix, parts of the filter will extend beyond the data matrix. In such cases, we utilize the edge values for padding.\n",
    "\n",
    "## Procedure:\n",
    "Compute each element of the result matrix one by one, multiply the filter with the corresponding elements of the data region, then sum the results. Repeat for other positions."
   ]
  },
  {
   "cell_type": "code",
   "execution_count": 5,
   "metadata": {},
   "outputs": [
    {
     "name": "stdout",
     "output_type": "stream",
     "text": [
      "Result Matrix:\n",
      "[[ 61.  68.  46.  45.]\n",
      " [ 38.   8.  22. 119.]\n",
      " [ 55.  30.  67.   5.]\n",
      " [ 76.  75.   2.  67.]]\n"
     ]
    }
   ],
   "source": [
    "import numpy as np\n",
    "\n",
    "# Define the filter & data matrix\n",
    "filter = np.array([[-2, 3, -1],[4, -1, 2],[0, 5, 3]])\n",
    "\n",
    "data = np.array([[8, 6, -2, 3],[1, 6, 4, 5],[3, 2, -4, 11],[10, -1, 7, 1]])\n",
    "\n",
    "# Function of 2D convolution\n",
    "def convolve2d(data, filter):\n",
    "    data_height, data_width = data.shape\n",
    "    filter_height, filter_width = filter.shape\n",
    "    result = np.zeros((data_height, data_width))\n",
    "\n",
    "    for i in range(data_height):\n",
    "        for j in range(data_width):\n",
    "            \n",
    "            # Extract the region of interest\n",
    "            region = data[max(i-1, 0):min(i+2, data_height), max(j-1, 0):min(j+2, data_width)]\n",
    "            \n",
    "            # Pad the region if necessary\n",
    "            padded_region = np.pad(region, ((max(1-i, 0), max(i+2-data_height, 0)),\n",
    "                                           (max(1-j, 0), max(j+2-data_width, 0))), mode='edge')\n",
    "            \n",
    "            # Perform the convolution\n",
    "            result[i, j] = np.sum(padded_region * filter)\n",
    "\n",
    "    return result\n",
    "\n",
    "result = convolve2d(data, filter)\n",
    "print(\"Result Matrix:\")\n",
    "print(result)"
   ]
  },
  {
   "cell_type": "markdown",
   "metadata": {},
   "source": [
    "### Mapping to the given result matrix, we can get: A = 45, B = 22, C = 55, D = 76."
   ]
  }
 ],
 "metadata": {
  "kernelspec": {
   "display_name": "Python 3",
   "language": "python",
   "name": "python3"
  },
  "language_info": {
   "codemirror_mode": {
    "name": "ipython",
    "version": 3
   },
   "file_extension": ".py",
   "mimetype": "text/x-python",
   "name": "python",
   "nbconvert_exporter": "python",
   "pygments_lexer": "ipython3",
   "version": "3.10.12"
  }
 },
 "nbformat": 4,
 "nbformat_minor": 2
}
