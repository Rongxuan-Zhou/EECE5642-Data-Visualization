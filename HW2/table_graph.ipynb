{
  "cells": [
    {
      "cell_type": "markdown",
      "metadata": {
        "id": "cII7aQ53YDSH"
      },
      "source": [
        "**3. Table & Graph**"
      ]
    },
    {
      "cell_type": "code",
      "execution_count": 2,
      "metadata": {
        "vscode": {
          "languageId": "plaintext"
        },
        "colab": {
          "base_uri": "https://localhost:8080/"
        },
        "id": "dxKEDC5FYDSI",
        "outputId": "0476b2cd-9991-435d-bfb9-3e8873d2536d"
      },
      "outputs": [
        {
          "output_type": "stream",
          "name": "stdout",
          "text": [
            "Requirement already satisfied: openpyxl in /usr/local/lib/python3.11/dist-packages (3.1.5)\n",
            "Requirement already satisfied: et-xmlfile in /usr/local/lib/python3.11/dist-packages (from openpyxl) (2.0.0)\n"
          ]
        }
      ],
      "source": [
        "!pip install openpyxl\n",
        "import pandas as pd\n",
        "import matplotlib.pyplot as plt\n",
        "import seaborn as sns\n",
        "from IPython.display import display  # 用于美化表格显示"
      ]
    },
    {
      "cell_type": "code",
      "source": [
        "# 加载数据\n",
        "url = \"https://github.com/Rongxuan-Zhou/EECE5642-Data-Visualization/raw/main/HW2/data-1.xlsx\"  # 文件路径\n",
        "df = pd.read_excel(url, sheet_name=\"Sheet1\")"
      ],
      "metadata": {
        "id": "vv0SS7fAYTir"
      },
      "execution_count": 3,
      "outputs": []
    },
    {
      "cell_type": "code",
      "source": [
        "print(\"当前列名列表:\", df.columns.tolist()) # 在拆分列之前，先输出所有列名以验证是否存在该列："
      ],
      "metadata": {
        "colab": {
          "base_uri": "https://localhost:8080/"
        },
        "id": "59keC35tYYsQ",
        "outputId": "7a99f5f4-1bf0-49d6-d7a3-012e5d3240d3"
      },
      "execution_count": 4,
      "outputs": [
        {
          "output_type": "stream",
          "name": "stdout",
          "text": [
            "当前列名列表: [\"Conference (Name'Year) \\xa0\", 'Acceptance rate', 'Num. of accepted papers', 'Num. of total submissions']\n"
          ]
        }
      ]
    },
    {
      "cell_type": "code",
      "source": [
        "# 清理列名\n",
        "df.columns = df.columns.str.strip()\n",
        "\n",
        "# 拆分列\n",
        "df[[\"Conference\", \"Year\"]] = df[\"Conference (Name'Year)\"].str.split(\"'\", expand=True)\n",
        "\n",
        "# 处理年份\n",
        "df[\"Year\"] = \"20\" + df[\"Year\"].astype(str)  # 确保Year为字符串类型\n",
        "df[\"Year\"] = df[\"Year\"].astype(int)\n",
        "\n",
        "# 删除原列\n",
        "df.drop(\"Conference (Name'Year)\", axis=1, inplace=True)\n",
        "\n",
        "# 打印结果\n",
        "print(df.head())"
      ],
      "metadata": {
        "colab": {
          "base_uri": "https://localhost:8080/"
        },
        "id": "T_G07pl71F4Y",
        "outputId": "7b6a4150-6b62-472d-f74c-9761d2526f53"
      },
      "execution_count": 5,
      "outputs": [
        {
          "output_type": "stream",
          "name": "stdout",
          "text": [
            "   Acceptance rate  Num. of accepted papers  Num. of total submissions  \\\n",
            "0            0.299                      540                       1807   \n",
            "1            0.283                      602                       2123   \n",
            "2            0.299                      643                       2145   \n",
            "3            0.299                      783                       2620   \n",
            "4            0.296                      979                       3303   \n",
            "\n",
            "  Conference  Year  \n",
            "0       CVPR  2014  \n",
            "1       CVPR  2015  \n",
            "2       CVPR  2016  \n",
            "3       CVPR  2017  \n",
            "4       CVPR  2018  \n"
          ]
        }
      ]
    },
    {
      "cell_type": "code",
      "source": [],
      "metadata": {
        "id": "WquntqMN8UOz"
      },
      "execution_count": null,
      "outputs": []
    }
  ],
  "metadata": {
    "language_info": {
      "name": "python"
    },
    "colab": {
      "provenance": []
    },
    "kernelspec": {
      "name": "python3",
      "display_name": "Python 3"
    }
  },
  "nbformat": 4,
  "nbformat_minor": 0
}