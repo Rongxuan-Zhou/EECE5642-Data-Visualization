{
 "cells": [
  {
   "cell_type": "markdown",
   "metadata": {},
   "source": [
    "**3. Table & Graph**"
   ]
  },
  {
   "cell_type": "code",
   "execution_count": null,
   "metadata": {
    "vscode": {
     "languageId": "plaintext"
    }
   },
   "outputs": [],
   "source": [
    "!pip install openpyxl\n",
    "import pandas as pd\n",
    "import matplotlib.pyplot as plt\n",
    "import seaborn as sns\n",
    "\n",
    "# 加载数据\n",
    "url = \"https://github.com/Rongxuan-Zhou/EECE5642-Data-Visualization/HW2/raw/main/data-1.xlsx\"  # 替换为实际文件路径\n",
    "df = pd.read_excel(url, sheet_name=\"Sheet1\")\n",
    "\n",
    "# 拆分会议名称和年份\n",
    "df[[\"Conference\", \"Year\"]] = df[\"Conference (Name'Year)\"].str.split(\"'\", expand=True)\n",
    "df[\"Year\"] = \"20\" + df[\"Year\"]  # 将年份转换为完整格式（如'14→2014）\n",
    "df[\"Year\"] = df[\"Year\"].astype(int)\n",
    "df.drop(\"Conference (Name'Year)\", axis=1, inplace=True)"
   ]
  }
 ],
 "metadata": {
  "language_info": {
   "name": "python"
  }
 },
 "nbformat": 4,
 "nbformat_minor": 2
}
